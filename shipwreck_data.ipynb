{
 "cells": [
  {
   "cell_type": "code",
   "execution_count": 40,
   "metadata": {},
   "outputs": [],
   "source": [
    "import pandas as pd\n",
    "import pymongo\n",
    "from functools import reduce"
   ]
  },
  {
   "cell_type": "code",
   "execution_count": 41,
   "metadata": {},
   "outputs": [],
   "source": [
    "#get data from website\n",
    "ship_df = pd.read_html('https://en.wikipedia.org/wiki/List_of_shipwrecks_of_the_United_States')\n",
    "\n",
    "#combine tables\n",
    "ship_wreck_data = pd.concat(ship_df)\n",
    "\n",
    "#drop Nans\n",
    "ship_wreck_data = ship_wreck_data.dropna()\n",
    "\n",
    "#drop duplicates\n",
    "ship_wreck_data = ship_wreck_data.drop_duplicates()\n",
    "\n",
    "#name columns\n",
    "ship_wreck_data.columns = ['ship','sunk_date','notes','coordinates']\n",
    "\n",
    "#drop the first row of data because it does not needed\n",
    "ship_wreck_data = ship_wreck_data.drop([0])\n",
    "\n",
    "#reset index\n",
    "ship_wreck_data = ship_wreck_data.reset_index(drop=True)"
   ]
  },
  {
   "cell_type": "code",
   "execution_count": 43,
   "metadata": {},
   "outputs": [
    {
     "name": "stdout",
     "output_type": "stream",
     "text": [
      "[32.24359, -88.0123]\n",
      "[30.76924, -88.0205]\n",
      "[30.3835, -88.033]\n",
      "[30.60231, -88.0386]\n",
      "[30.23167, -88.0258]\n",
      "[30.76924, -88.0205]\n",
      "[53.883, -169.96]\n",
      "[57.48, 153.84]\n",
      "[52.23778, 177.41806]\n",
      "[53.267, 174.4]\n",
      "[52.542, 172.177]\n",
      "[58.3765, -134.788]\n",
      "[52.25, 173.85]\n",
      "[52.283, 178.133]\n",
      "[58.234, -134.46]\n",
      "[58.6022, -135.023]\n",
      "[55.883, -136.45]\n",
      "[41.17367, -73.1856]\n",
      "[41.17367, -73.1856]\n",
      "[38.84, -74.0]\n",
      "[32.08472, -81.0358]\n",
      "[13.45917, 144.65417]\n",
      "[21.364775, -157.95011]\n",
      "[20.862722, -156.67519]\n",
      "[21.36889, -157.9625]\n",
      "[39.1736028, -94.670247]\n",
      "[30.48722, -91.2013]\n",
      "[29.580617, -92.65498]\n",
      "[29.36333, -89.4613]\n",
      "[28.617, -90.75]\n",
      "[43.62283, -70.2079]\n",
      "[43.5577, -70.162]\n",
      "[38.84, -74.0]\n",
      "[38.13611, -76.5527]\n",
      "[46.79, -85.6]\n",
      "[47.14417, -88.4597]\n",
      "[46.71278, -92.0286]\n",
      "[47.27139, -91.2716]\n",
      "[47.20611, -91.358]\n",
      "[46.80333, -92.0111]\n",
      "[46.84611, -91.7772]\n",
      "[46.84722, -91.7288]\n",
      "[46.78333, -92.0694]\n",
      "[32.37583, -90.8666]\n",
      "[38.611483, -90.1881]\n",
      "[37.315, -89.5]\n",
      "[38.79472, -90.4669]\n",
      "[39.1332, -94.073]\n",
      "[41.52333, -96.0288]\n",
      "[40.1269, -73.656]\n",
      "[40.17, -73.6]\n",
      "[38.94444, -74.9719]\n",
      "[38.617, -74.53]\n",
      "[38.5008, -74.11]\n",
      "[39.33, -73.2]\n",
      "[39.578, -74.3]\n",
      "[44.280333, -76.01971]\n",
      "[40.5375, -73.0372]\n",
      "[44.20583, -73.3775]\n",
      "[43.42111, -73.7083]\n",
      "[40.5902, -73.854]\n",
      "[41.5167, -71.733]\n",
      "[40.4229, -73.681]\n",
      "[40.45, -73.8]\n",
      "Between Amagansett and Montauk.\n",
      "[38.687049, -83.57754]\n",
      "[41.217, -71.45]\n",
      "[32.79139, -79.9225]\n",
      "[31.271639, -73.96283]\n",
      "[32.77972, -79.7597]\n",
      "[32.71861, -79.8047]\n",
      "[32.733, -79.76]\n",
      "[32.69333, -79.8719]\n",
      "[32.77972, -79.7597]\n",
      "[32.765252, -79.89128]\n",
      "[32.7157, -79.89]\n",
      "[35.19056, -90.1144]\n",
      "[29.3775, -94.8913]\n",
      "[26.6928, -97.3182]\n",
      "[28.367, -96.18]\n",
      "[26.55333, -97.4253]\n",
      "[38.04028, -76.1547]\n",
      "[36.96167, -76.4316]\n",
      "[37.9783, -75.246]\n",
      "[37.0732, -76.543]\n",
      "[37.1817, -73.76]\n",
      "[37.039, -76.19]\n",
      "[37.15222, -74.5675]\n",
      "[37.411, -75.66]\n",
      "[36.9059, -72.147]\n",
      "[37.0968, -75.704]\n",
      "[37.71944, -76.0833]\n",
      "[37.633, -70.38]\n",
      "[36.90694, -76.3436]\n",
      "[19.167, 166.367]\n",
      "[18.917, 166.283]\n",
      "[46.943, -124.11]\n",
      "[48.286095, -124.68756]\n",
      "[46.278, -124.02]\n",
      "[47.62, -122.37]\n",
      "[43.13639, -87.8319]\n",
      "California Florida Great Lakes Massachusetts North Carolina Oregon\n"
     ]
    }
   ],
   "source": [
    "true_coordinates = []\n",
    "#ship_wreck_data1 = ship_wreck_data.drop([0,74])\n",
    "\n",
    "for coordinate in ship_wreck_data['coordinates']:\n",
    "    if coordinate.find('/')==-1:\n",
    "        print(coordinate)\n",
    "    else:\n",
    "        latlong = coordinate.split('/')[1]\n",
    "        new_latlong = latlong.replace(\"°\",\"\").strip()\n",
    "        lat = new_latlong.split()[0]\n",
    "        long = new_latlong.split()[1]\n",
    "        lat = lat[1:]\n",
    "    \n",
    "        #print(lat[:len(lat)-2])\n",
    "        if lat[len(lat)-1] == 'S':\n",
    "            lat = 0-float(lat[:len(lat)-2])\n",
    "           # print(lat)\n",
    "        else:\n",
    "            lat = lat.strip(\"N\")\n",
    "            #print(lat)\n",
    "        if long[len(long)-1] == 'W':\n",
    "            long = 0-float(long[:len(long)-2])\n",
    "            #print(long)\n",
    "        else:\n",
    "            long = long.strip(\"E\")\n",
    "        #print(long)\n",
    "        try:\n",
    "            clean_coordinates = [float(lat),float(long)]\n",
    "            print(clean_coordinates)\n",
    "            true_coordinates.append(clean_coordinates)\n",
    "        except:\n",
    "            print(\"Sorry\")"
   ]
  },
  {
   "cell_type": "code",
   "execution_count": 44,
   "metadata": {},
   "outputs": [],
   "source": [
    "true_coordinates_df = pd.DataFrame(true_coordinates)\n",
    "true_coordinates_df.columns = ['Latitude', 'Longitude']\n",
    "\n",
    "#drop duplicate values\n",
    "true_coordinates_df =true_coordinates_df.drop_duplicates()\n",
    "\n",
    "#convert true_coordinates_df to a list then into a series so both values will be in one column as coordinates\n",
    "coordinate = true_coordinates_df.values.tolist()\n",
    "coordinate_series = pd.Series(coordinate)\n",
    "\n",
    "#append coordinate_series to coordinate column and drop Nan values\n",
    "ship_wreck_df = ship_wreck_data\n",
    "ship_wreck_df['coordinates'] = coordinate_series"
   ]
  },
  {
   "cell_type": "code",
   "execution_count": 47,
   "metadata": {},
   "outputs": [],
   "source": [
    "#convert dataframe to json\n",
    "import json\n",
    "ship_wreck_json = ship_wreck_df.to_json(orient='records')\n",
    "json_format = json.loads(ship_wreck_json)"
   ]
  },
  {
   "cell_type": "code",
   "execution_count": 48,
   "metadata": {},
   "outputs": [],
   "source": [
    "import pymongo\n",
    "#create mongo database\n",
    "myclient = pymongo.MongoClient('mongodb://localhost:27017/')\n",
    "\n",
    "db = myclient['shipwreckData']"
   ]
  },
  {
   "cell_type": "code",
   "execution_count": 49,
   "metadata": {},
   "outputs": [
    {
     "data": {
      "text/plain": [
       "<pymongo.results.InsertManyResult at 0x1baceaeca88>"
      ]
     },
     "execution_count": 49,
     "metadata": {},
     "output_type": "execute_result"
    }
   ],
   "source": [
    "json_data = db.shipwreckData\n",
    "json_data.drop()\n",
    "json_data.insert_many(json_format)"
   ]
  },
  {
   "cell_type": "code",
   "execution_count": null,
   "metadata": {},
   "outputs": [],
   "source": []
  }
 ],
 "metadata": {
  "kernelspec": {
   "display_name": "Python 3",
   "language": "python",
   "name": "python3"
  },
  "language_info": {
   "codemirror_mode": {
    "name": "ipython",
    "version": 3
   },
   "file_extension": ".py",
   "mimetype": "text/x-python",
   "name": "python",
   "nbconvert_exporter": "python",
   "pygments_lexer": "ipython3",
   "version": "3.6.5"
  }
 },
 "nbformat": 4,
 "nbformat_minor": 2
}
