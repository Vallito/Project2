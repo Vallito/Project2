{
 "cells": [
  {
   "cell_type": "code",
   "execution_count": 34,
   "metadata": {},
   "outputs": [],
   "source": [
    "# import dependencies\n",
    "import pandas as pd\n",
    "from splinter import Browser\n",
    "from bs4 import BeautifulSoup as bs"
   ]
  },
  {
   "cell_type": "markdown",
   "metadata": {},
   "source": [
    "### Mac Users:"
   ]
  },
  {
   "cell_type": "code",
   "execution_count": 35,
   "metadata": {},
   "outputs": [
    {
     "name": "stdout",
     "output_type": "stream",
     "text": [
      "/usr/local/bin/chromedriver\r\n"
     ]
    }
   ],
   "source": [
    "!which chromedriver"
   ]
  },
  {
   "cell_type": "code",
   "execution_count": 36,
   "metadata": {},
   "outputs": [],
   "source": [
    "executable_path = {'executable_path': '/usr/local/bin/chromedriver'}\n",
    "browser = Browser('chrome', **executable_path, headless=False)"
   ]
  },
  {
   "cell_type": "markdown",
   "metadata": {},
   "source": [
    "### Windows Users:"
   ]
  },
  {
   "cell_type": "code",
   "execution_count": 37,
   "metadata": {},
   "outputs": [],
   "source": [
    "# executable_path = {'executable_path': 'chromedriver.exe'}\n",
    "# browser = Browser('chrome', **executable_path, headless=False)"
   ]
  },
  {
   "cell_type": "code",
   "execution_count": 38,
   "metadata": {},
   "outputs": [],
   "source": [
    "# urlLH = 'https://www.us-lighthouses.com/all.php'\n",
    "urlLH = 'https://en.wikipedia.org/wiki/List_of_lighthouses_in_the_United_States'\n",
    "browser.visit(urlLH)"
   ]
  },
  {
   "cell_type": "code",
   "execution_count": 39,
   "metadata": {},
   "outputs": [],
   "source": [
    "html = browser.html\n",
    "soup = bs(html,'html.parser')\n",
    "\n",
    "# usGroup = soup.find_all(\"div\",class_=\"large-9 large-push-3 columns\")"
   ]
  },
  {
   "cell_type": "code",
   "execution_count": 40,
   "metadata": {
    "scrolled": true
   },
   "outputs": [],
   "source": [
    "# print(usGroup)"
   ]
  },
  {
   "cell_type": "code",
   "execution_count": 41,
   "metadata": {},
   "outputs": [],
   "source": [
    "# for i in usGroup:\n",
    "#     link = i.find_all('a')\n",
    "\n",
    "# print(link[0])"
   ]
  },
  {
   "cell_type": "code",
   "execution_count": 42,
   "metadata": {},
   "outputs": [],
   "source": [
    "# browser.click_link_by_partial_href(link[1]['href'])\n",
    "# page = browser.html\n",
    "# soupLH = bs(page,'html.parser')\n",
    "\n",
    "# small = soupLH.find(\"small\")\n",
    "# info = small.text\n",
    "\n",
    "# print(info)"
   ]
  },
  {
   "cell_type": "code",
   "execution_count": 50,
   "metadata": {},
   "outputs": [
    {
     "name": "stdout",
     "output_type": "stream",
     "text": [
      "[<a href=\"#New_England\"><span class=\"tocnumber\">1</span> <span class=\"toctext\">New England</span></a>, <a href=\"#Mid-Atlantic\"><span class=\"tocnumber\">2</span> <span class=\"toctext\">Mid-Atlantic</span></a>, <a href=\"#Midwest\"><span class=\"tocnumber\">3</span> <span class=\"toctext\">Midwest</span></a>, <a href=\"#Pacific_(states)\"><span class=\"tocnumber\">4</span> <span class=\"toctext\">Pacific (states)</span></a>, <a href=\"#South\"><span class=\"tocnumber\">5</span> <span class=\"toctext\">South</span></a>, <a href=\"#United_States_territories\"><span class=\"tocnumber\">6</span> <span class=\"toctext\">United States territories</span></a>]\n"
     ]
    }
   ],
   "source": [
    "toc = soup.find(\"div\",id='toc')\n",
    "tocList = toc.ul.find_all('a')\n",
    "\n",
    "# print(tocList[5])\n",
    "fltr_toc = tocList[:6]\n",
    "\n",
    "print(fltr_toc)"
   ]
  },
  {
   "cell_type": "code",
   "execution_count": null,
   "metadata": {},
   "outputs": [],
   "source": [
    "# for t in fltr_toc:\n",
    "#     browser.click_link_by_partial_href(t['href'])\n",
    "#     page = browser.html\n",
    "    "
   ]
  },
  {
   "cell_type": "code",
   "execution_count": 75,
   "metadata": {},
   "outputs": [
    {
     "name": "stdout",
     "output_type": "stream",
     "text": [
      "<table class=\"wikitable sortable\">\n",
      "<tbody><tr>\n",
      "<th>State\n",
      "</th>\n",
      "<th><a href=\"/wiki/List_of_tallest_lighthouses_in_the_United_States\" title=\"List of tallest lighthouses in the United States\">Tallest</a><sup class=\"reference\" id=\"cite_ref-Heights_1-0\"><a href=\"#cite_note-Heights-1\">[1]</a></sup> (<a href=\"/wiki/Height\" title=\"Height\">H</a>)\n",
      "</th>\n",
      "<th>Shortest<sup class=\"reference\" id=\"cite_ref-Heights_1-1\"><a href=\"#cite_note-Heights-1\">[1]</a></sup> (H)\n",
      "</th>\n",
      "<th>Oldest<sup class=\"reference\" id=\"cite_ref-Oldest_NE_2-0\"><a href=\"#cite_note-Oldest_NE-2\">[2]</a></sup><br/><small>(Currently standing)</small>\n",
      "</th></tr>\n",
      "<tr>\n",
      "<td><a href=\"/wiki/List_of_lighthouses_in_Maine\" title=\"List of lighthouses in Maine\">Maine</a>\n",
      "</td>\n",
      "<td style=\"text-align: center;\"><span style=\"display:none\">133</span><a href=\"/wiki/Boon_Island_Light\" title=\"Boon Island Light\">Boon Island Light</a><br/> 133 ft (41 m)\n",
      "</td>\n",
      "<td style=\"text-align: center;\"><span style=\"display:none\">020</span><a href=\"/wiki/Pond_Island_Light\" title=\"Pond Island Light\">Pond Island Light</a><br/> 20 ft (6.1 m)\n",
      "</td>\n",
      "<td style=\"text-align: center;\"><span style=\"display:none\">1791</span><a href=\"/wiki/Portland_Head_Light\" title=\"Portland Head Light\">Portland Head Light</a><br/>(1791)<sup class=\"reference\" id=\"cite_ref-3\"><a href=\"#cite_note-3\">[3]</a></sup>\n",
      "</td></tr>\n",
      "<tr>\n",
      "<td><a href=\"/wiki/List_of_lighthouses_in_Massachusetts\" title=\"List of lighthouses in Massachusetts\">Massachusetts</a>\n",
      "</td>\n",
      "<td style=\"text-align: center;\"><span style=\"display:none\">124</span><a href=\"/wiki/Cape_Ann_Light_Station\" title=\"Cape Ann Light Station\">Cape Ann Light</a><br/> 124 ft (38 m)\n",
      "</td>\n",
      "<td style=\"text-align: center;\">Disputed<sup class=\"reference plainlinks nourlexpansion\" id=\"ref_NoteA\"><a href=\"#endnote_NoteA\">A</a></sup>\n",
      "</td>\n",
      "<td style=\"text-align: center;\"><span style=\"display:none\">1783</span><a href=\"/wiki/Boston_Light\" title=\"Boston Light\">Boston Light</a><br/>(1783)<sup class=\"reference\" id=\"cite_ref-4\"><a href=\"#cite_note-4\">[4]</a></sup>\n",
      "</td></tr>\n",
      "<tr>\n",
      "<td>New Hampshire\n",
      "</td>\n",
      "<td style=\"text-align: center;\"><span style=\"display:none\">058</span><a href=\"/wiki/Isles_of_Shoals_Light\" title=\"Isles of Shoals Light\">Isles of Shoals Light</a><br/> 58 ft (18 m)\n",
      "</td>\n",
      "<td style=\"text-align: center;\"><span style=\"display:none\">048</span><a href=\"/wiki/Portsmouth_Harbor_Light\" title=\"Portsmouth Harbor Light\">Portsmouth Harbor Light</a><br/> 48 ft (15 m)\n",
      "</td>\n",
      "<td style=\"text-align: center;\"><span style=\"display:none\">1865</span>Isles of Shoals Light<br/>(1859)<sup class=\"reference\" id=\"cite_ref-5\"><a href=\"#cite_note-5\">[5]</a></sup>\n",
      "</td></tr>\n",
      "<tr>\n",
      "<td><a href=\"/wiki/List_of_lighthouses_in_Rhode_Island\" title=\"List of lighthouses in Rhode Island\">Rhode Island</a>\n",
      "</td>\n",
      "<td style=\"text-align: center;\"><span style=\"display:none\">066</span><a href=\"/wiki/Sakonnet_Light\" title=\"Sakonnet Light\">Sakonnet Light</a><br/> 66 ft (20 m)\n",
      "</td>\n",
      "<td style=\"text-align: center;\"><span style=\"display:none\">013</span><a href=\"/wiki/Ida_Lewis_Rock_Light\" title=\"Ida Lewis Rock Light\">Ida Lewis Rock Light</a><br/> 13 ft (4.0 m)\n",
      "</td>\n",
      "<td style=\"text-align: center;\"><span style=\"display:none\">1831</span><a href=\"/wiki/Poplar_Point_Light\" title=\"Poplar Point Light\">Poplar Point Light</a><br/>(1831)<sup class=\"reference\" id=\"cite_ref-6\"><a href=\"#cite_note-6\">[6]</a></sup>\n",
      "</td></tr>\n",
      "<tr>\n",
      "<td><a href=\"/wiki/List_of_lighthouses_in_Connecticut\" title=\"List of lighthouses in Connecticut\">Connecticut</a>\n",
      "</td>\n",
      "<td style=\"text-align: center;\"><span style=\"display:none\">089</span><a href=\"/wiki/New_London_Harbor_Light\" title=\"New London Harbor Light\">New London Harbor Light</a><br/> 89 ft (27 m)<sup class=\"reference\" id=\"cite_ref-NLHL_7-0\"><a href=\"#cite_note-NLHL-7\">[7]</a></sup>\n",
      "</td>\n",
      "<td style=\"text-align: center;\"><span style=\"display:none\">025</span><a href=\"/wiki/Mystic_Seaport_Light\" title=\"Mystic Seaport Light\">Mystic Seaport Light</a><br/> 25 ft (7.6 m)\n",
      "</td>\n",
      "<td style=\"text-align: center;\"><span style=\"display:none\">1801</span>New London Harbor Light<br/>(1801)<sup class=\"reference\" id=\"cite_ref-NLHL_7-1\"><a href=\"#cite_note-NLHL-7\">[7]</a></sup>\n",
      "</td></tr>\n",
      "<tr>\n",
      "<td>Vermont\n",
      "</td>\n",
      "<td style=\"text-align: center;\"><span style=\"display:none\">040</span><a href=\"/wiki/Windmill_Point_Light_(Vermont)\" title=\"Windmill Point Light (Vermont)\">Windmill Point Light</a><br/> 40 ft (12 m)\n",
      "</td>\n",
      "<td style=\"text-align: center;\"><span style=\"display:none\">013</span><a class=\"mw-redirect\" href=\"/wiki/Whipple_Point_Light\" title=\"Whipple Point Light\">Whipple Point Light</a><br/> 13 ft (4.0 m)\n",
      "</td>\n",
      "<td style=\"text-align: center;\"><span style=\"display:none\">1846</span><a href=\"/wiki/Juniper_Island_Light\" title=\"Juniper Island Light\">Juniper Island Light</a><br/>(1846)<sup class=\"reference\" id=\"cite_ref-Oldest_NE_2-1\"><a href=\"#cite_note-Oldest_NE-2\">[2]</a></sup>\n",
      "</td></tr></tbody></table>\n"
     ]
    }
   ],
   "source": [
    "disp_tables = soup.find_all(\"table\")\n",
    "print(disp_tables[1])"
   ]
  },
  {
   "cell_type": "code",
   "execution_count": 87,
   "metadata": {},
   "outputs": [
    {
     "name": "stdout",
     "output_type": "stream",
     "text": [
      "No <th>\n",
      "No <th>\n",
      "No <th>\n",
      "<table class=\"wikitable sortable\">\n",
      "<tbody><tr>\n",
      "<th>Name\n",
      "</th>\n",
      "<th class=\"unsortable\" scope=\"col\">Image\n",
      "</th>\n",
      "<th>Location\n",
      "</th>\n",
      "<th width=\"100\">Coordinates\n",
      "</th>\n",
      "<th>Year first lit\n",
      "</th>\n",
      "<th>Automated\n",
      "</th>\n",
      "<th>Year deactivated\n",
      "</th>\n",
      "<th>Current Lens\n",
      "</th>\n",
      "<th>Focal Height\n",
      "</th></tr>\n",
      "<tr>\n",
      "<td><a href=\"/wiki/Isles_of_Shoals_Light\" title=\"Isles of Shoals Light\">Isles of Shoals Light</a>\n",
      "</td>\n",
      "<td><a class=\"image\" href=\"/wiki/File:Lighthouse_on_the_Rock.jpg\"><img alt=\"Lighthouse on the Rock.jpg\" data-file-height=\"884\" data-file-width=\"1326\" decoding=\"async\" height=\"67\" src=\"//upload.wikimedia.org/wikipedia/commons/thumb/9/99/Lighthouse_on_the_Rock.jpg/100px-Lighthouse_on_the_Rock.jpg\" srcset=\"//upload.wikimedia.org/wikipedia/commons/thumb/9/99/Lighthouse_on_the_Rock.jpg/150px-Lighthouse_on_the_Rock.jpg 1.5x, //upload.wikimedia.org/wikipedia/commons/thumb/9/99/Lighthouse_on_the_Rock.jpg/200px-Lighthouse_on_the_Rock.jpg 2x\" width=\"100\"/></a>\n",
      "</td>\n",
      "<td><a href=\"/wiki/Isles_of_Shoals\" title=\"Isles of Shoals\">Isles of Shoals</a>\n",
      "</td>\n",
      "<td><small><span class=\"plainlinks nourlexpansion\"><span style=\"white-space: nowrap;\"><img alt=\"\" class=\"wmamapbutton noprint\" src=\"//upload.wikimedia.org/wikipedia/commons/thumb/5/55/WMA_button2b.png/17px-WMA_button2b.png\" srcset=\"//upload.wikimedia.org/wikipedia/commons/thumb/5/55/WMA_button2b.png/17px-WMA_button2b.png 1x, //upload.wikimedia.org/wikipedia/commons/thumb/5/55/WMA_button2b.png/34px-WMA_button2b.png 2x\" style=\"padding: 0px 3px 0px 0px; cursor: pointer;\" title=\"Show location on an interactive map\"/><a class=\"external text\" href=\"//tools.wmflabs.org/geohack/geohack.php?pagename=List_of_lighthouses_in_the_United_States&amp;params=42_58_02_N_70_37_23_W_region:US_type:landmark&amp;title=Isles+of+Shoals+Light\" style=\"white-space: normal;\"><span class=\"geo-default\"><span class=\"geo-dms\" title=\"Maps, aerial photos, and other data for this location\"><span class=\"latitude\">42°58′02″N</span> <span class=\"longitude\">70°37′23″W</span></span></span><span class=\"geo-multi-punct\">﻿ / ﻿</span><span class=\"geo-nondefault\"><span class=\"vcard\"><span class=\"geo-dec\" title=\"Maps, aerial photos, and other data for this location\">42.96722°N 70.62306°W</span><span style=\"display:none\">﻿ / <span class=\"geo\">42.96722; -70.62306</span></span><span style=\"display:none\">﻿ (<span class=\"fn org\">Isles of Shoals Light</span>)</span></span></span></a></span></span></small>\n",
      "</td>\n",
      "<td style=\"text-align: center;\">1859\n",
      "</td>\n",
      "<td style=\"text-align: center;\">1987\n",
      "</td>\n",
      "<td style=\"text-align: center;\">Active\n",
      "</td>\n",
      "<td style=\"text-align: center;\"><a class=\"mw-redirect\" href=\"/wiki/VLB-44\" title=\"VLB-44\">VLB-44</a> LED unit\n",
      "</td>\n",
      "<td style=\"text-align: center;\">82 ft (25 m)\n",
      "</td></tr>\n",
      "<tr>\n",
      "<td><a href=\"/wiki/Portsmouth_Harbor_Light\" title=\"Portsmouth Harbor Light\">Portsmouth Harbor Light</a>\n",
      "</td>\n",
      "<td><a class=\"image\" href=\"/wiki/File:Portsmouth_Harbor_Lighthouse.jpg\"><img alt=\"Portsmouth Harbor Lighthouse.jpg\" data-file-height=\"598\" data-file-width=\"400\" decoding=\"async\" height=\"150\" src=\"//upload.wikimedia.org/wikipedia/commons/thumb/f/f3/Portsmouth_Harbor_Lighthouse.jpg/100px-Portsmouth_Harbor_Lighthouse.jpg\" srcset=\"//upload.wikimedia.org/wikipedia/commons/thumb/f/f3/Portsmouth_Harbor_Lighthouse.jpg/150px-Portsmouth_Harbor_Lighthouse.jpg 1.5x, //upload.wikimedia.org/wikipedia/commons/thumb/f/f3/Portsmouth_Harbor_Lighthouse.jpg/200px-Portsmouth_Harbor_Lighthouse.jpg 2x\" width=\"100\"/></a>\n",
      "</td>\n",
      "<td><a href=\"/wiki/New_Castle,_New_Hampshire\" title=\"New Castle, New Hampshire\">New Castle</a>\n",
      "</td>\n",
      "<td><small><span class=\"plainlinks nourlexpansion\"><span style=\"white-space: nowrap;\"><img alt=\"\" class=\"wmamapbutton noprint\" src=\"//upload.wikimedia.org/wikipedia/commons/thumb/5/55/WMA_button2b.png/17px-WMA_button2b.png\" srcset=\"//upload.wikimedia.org/wikipedia/commons/thumb/5/55/WMA_button2b.png/17px-WMA_button2b.png 1x, //upload.wikimedia.org/wikipedia/commons/thumb/5/55/WMA_button2b.png/34px-WMA_button2b.png 2x\" style=\"padding: 0px 3px 0px 0px; cursor: pointer;\" title=\"Show location on an interactive map\"/><a class=\"external text\" href=\"//tools.wmflabs.org/geohack/geohack.php?pagename=List_of_lighthouses_in_the_United_States&amp;params=43_04_15_N_70_42_30_W_region:US_type:landmark&amp;title=Portsmouth+Harbor+Light\" style=\"white-space: normal;\"><span class=\"geo-default\"><span class=\"geo-dms\" title=\"Maps, aerial photos, and other data for this location\"><span class=\"latitude\">43°04′15″N</span> <span class=\"longitude\">70°42′30″W</span></span></span><span class=\"geo-multi-punct\">﻿ / ﻿</span><span class=\"geo-nondefault\"><span class=\"vcard\"><span class=\"geo-dec\" title=\"Maps, aerial photos, and other data for this location\">43.07083°N 70.70833°W</span><span style=\"display:none\">﻿ / <span class=\"geo\">43.07083; -70.70833</span></span><span style=\"display:none\">﻿ (<span class=\"fn org\">Portsmouth Harbor Light</span>)</span></span></span></a></span></span></small>\n",
      "</td>\n",
      "<td style=\"text-align: center;\">1878\n",
      "</td>\n",
      "<td style=\"text-align: center;\">1960\n",
      "</td>\n",
      "<td style=\"text-align: center;\">Active\n",
      "</td>\n",
      "<td style=\"text-align: center;\">Fourth order <a href=\"/wiki/Fresnel_lens\" title=\"Fresnel lens\">Fresnel</a>\n",
      "</td>\n",
      "<td style=\"text-align: center;\">48 ft (15 m)\n",
      "</td></tr></tbody></table>\n"
     ]
    }
   ],
   "source": [
    "nonLinkTbls = []\n",
    "linkTbls = []\n",
    "for x in disp_tables:\n",
    "#     print(x.find('th').text)\n",
    "#     print(x)\n",
    "    try:\n",
    "        if x.find('th').text.strip() == 'State':\n",
    "            linkTbls.append(x)\n",
    "        elif x.find('th').text.strip() == 'Name':\n",
    "            nonLinkTbls.append(x)\n",
    "        \n",
    "    except: \n",
    "        print('No <th>')\n",
    "\n",
    "# print(linkTbls[0])\n",
    "print(nonLinkTbls[0])"
   ]
  },
  {
   "cell_type": "code",
   "execution_count": null,
   "metadata": {},
   "outputs": [],
   "source": []
  }
 ],
 "metadata": {
  "kernelspec": {
   "display_name": "Python 3",
   "language": "python",
   "name": "python3"
  },
  "language_info": {
   "codemirror_mode": {
    "name": "ipython",
    "version": 3
   },
   "file_extension": ".py",
   "mimetype": "text/x-python",
   "name": "python",
   "nbconvert_exporter": "python",
   "pygments_lexer": "ipython3",
   "version": "3.6.5"
  }
 },
 "nbformat": 4,
 "nbformat_minor": 2
}
